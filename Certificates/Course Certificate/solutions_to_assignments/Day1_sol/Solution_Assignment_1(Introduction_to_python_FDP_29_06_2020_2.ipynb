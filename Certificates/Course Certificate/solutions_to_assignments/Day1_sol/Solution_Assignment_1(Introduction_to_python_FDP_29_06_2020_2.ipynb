{
 "cells": [
  {
   "cell_type": "markdown",
   "metadata": {
    "colab_type": "text",
    "id": "SVMRfcjCpC0x"
   },
   "source": [
    "# Joint Summer Faculty Development Program 2020\n",
    "\n",
    "##Machine Learning for Computer Vision\n",
    "##June 29 to July 8, 2020"
   ]
  },
  {
   "cell_type": "markdown",
   "metadata": {
    "colab_type": "text",
    "id": "4jt8KqCCpE4Z"
   },
   "source": [
    "**Principal Coordinator - IIITDM Jabalpur : Co-Principal Coordinator - MNIT Jaipur**\n",
    "\n",
    "**Particiapting Academies -** IIT Guwahati, MNIT Jaipur, NIT Patna, IIITDM Jabalpur "
   ]
  },
  {
   "cell_type": "markdown",
   "metadata": {
    "colab_type": "text",
    "id": "2Tn0obVmpE8x"
   },
   "source": [
    "# Assignment 1: Introduction to Python  \n",
    "\n",
    "---\n",
    "\n"
   ]
  },
  {
   "cell_type": "markdown",
   "metadata": {
    "colab_type": "text",
    "id": "R9Bv34GsovHd"
   },
   "source": [
    "**Exercise 1.** Create following list:\n",
    "\n",
    "data = [2,34,23,16,56,45,34,26,78,56,1,16]\n",
    "\n",
    "Now delete the duplicate values and print the list in ascending order. "
   ]
  },
  {
   "cell_type": "code",
   "execution_count": 1,
   "metadata": {
    "colab": {},
    "colab_type": "code",
    "id": "esARDCHLoysa"
   },
   "outputs": [
    {
     "name": "stdout",
     "output_type": "stream",
     "text": [
      "[2, 34, 23, 16, 56, 45, 26, 78, 1]\n",
      "[1, 2, 16, 23, 26, 34, 45, 56, 78]\n"
     ]
    }
   ],
   "source": [
    "#Write your code here\n",
    "data = [2,34,23,16,56,45,34,26,78,56,1,16]\n",
    "\n",
    "unique = []\n",
    "for x in data:\n",
    "    if x not in unique:\n",
    "        unique.append(x)\n",
    "\n",
    "print(unique)\n",
    "unique.sort()\n",
    "print(unique)"
   ]
  },
  {
   "cell_type": "markdown",
   "metadata": {
    "colab_type": "text",
    "id": "5kImrrP2owii"
   },
   "source": [
    "**Exercise 2:** Take five numbers as input from the user and save into a list. Find the maximum of the list and sort the data in descending order."
   ]
  },
  {
   "cell_type": "code",
   "execution_count": 1,
   "metadata": {
    "colab": {},
    "colab_type": "code",
    "id": "O7U-8ShDosd-"
   },
   "outputs": [],
   "source": [
    "#Write your code here"
   ]
  },
  {
   "cell_type": "code",
   "execution_count": 11,
   "metadata": {},
   "outputs": [
    {
     "name": "stdout",
     "output_type": "stream",
     "text": [
      "Enter number45\n",
      "Enter number12\n",
      "Enter number78\n",
      "Enter number45\n",
      "Enter number12\n",
      "['45', '12', '78', '45', '12']\n"
     ]
    }
   ],
   "source": [
    "number=[]\n",
    "for i in range(5):\n",
    "    x=input(\"Enter number\")\n",
    "    number.append(x)\n",
    "print(number)"
   ]
  },
  {
   "cell_type": "code",
   "execution_count": 12,
   "metadata": {},
   "outputs": [
    {
     "data": {
      "text/plain": [
       "'78'"
      ]
     },
     "execution_count": 12,
     "metadata": {},
     "output_type": "execute_result"
    }
   ],
   "source": [
    "max(number)"
   ]
  },
  {
   "cell_type": "code",
   "execution_count": 17,
   "metadata": {},
   "outputs": [
    {
     "data": {
      "text/plain": [
       "['78', '45', '45', '12', '12']"
      ]
     },
     "execution_count": 17,
     "metadata": {},
     "output_type": "execute_result"
    }
   ],
   "source": [
    "number.sort(reverse=True)\n",
    "number"
   ]
  },
  {
   "cell_type": "markdown",
   "metadata": {
    "colab_type": "text",
    "id": "asaJtrdPLu28"
   },
   "source": [
    "**Exercise 4:**\n",
    "\n",
    "(i) Generate two arrays A1 and A2 of size 5 X 4 and 3 X 4 respectively using np.random()\n",
    "\n",
    "(ii) Join them and make an array A3 of 8 X 4. Now append random numbers ranging between from 0 to 5 to make the fourth array A4 of size 10 X 10. \n",
    "\n",
    "(iii) Print all the arrays and their transpose ( Transpose of 'A' can be obtained by 'A.T') "
   ]
  },
  {
   "cell_type": "code",
   "execution_count": 3,
   "metadata": {
    "colab": {},
    "colab_type": "code",
    "id": "pNV0vFKtLuQJ"
   },
   "outputs": [
    {
     "name": "stdout",
     "output_type": "stream",
     "text": [
      "Solution 4\n",
      "A1:   [[6 6 6 5]\n",
      " [3 6 3 8]\n",
      " [4 7 7 5]\n",
      " [1 2 4 8]\n",
      " [8 5 6 4]]\n",
      "A2:   [[18 16 19 18]\n",
      " [14 10 15 13]\n",
      " [ 4  6 13  4]]\n",
      "A3:   [[ 6  6  6  5]\n",
      " [ 3  6  3  8]\n",
      " [ 4  7  7  5]\n",
      " [ 1  2  4  8]\n",
      " [ 8  5  6  4]\n",
      " [18 16 19 18]\n",
      " [14 10 15 13]\n",
      " [ 4  6 13  4]]\n",
      "A4:   [[4 4 1 0 3 2 2 1 0 3]\n",
      " [4 3 2 4 2 3 0 1 3 0]\n",
      " [4 3 3 4 0 1 4 1 3 3]\n",
      " [4 0 4 1 2 3 4 4 0 0]\n",
      " [2 0 4 4 4 1 2 3 4 2]\n",
      " [1 0 1 1 1 4 1 2 3 3]\n",
      " [4 1 1 0 0 3 4 1 2 0]\n",
      " [2 3 1 4 0 0 1 3 3 4]\n",
      " [0 2 4 4 2 2 3 4 4 4]\n",
      " [0 2 0 3 3 4 0 3 2 4]]\n"
     ]
    }
   ],
   "source": [
    "#Write your code here\n",
    "import numpy as np\n",
    "print(\"Solution 4\")\n",
    "A1 = np.random.randint(1,high=10, size=(5, 4))\n",
    "A2 = np.random.randint(1,high=20, size=(3, 4))\n",
    "\n",
    "print(\"A1:  \", A1)\n",
    "\n",
    "print(\"A2:  \", A2)\n",
    "\n",
    "A3= np.concatenate((A1, A2))\n",
    "print(\"A3:  \", A3)\n",
    "\n",
    "A4 = np.random.randint(0,high=5, size=(10, 10))\n",
    "print(\"A4:  \", A4)"
   ]
  },
  {
   "cell_type": "markdown",
   "metadata": {
    "colab_type": "text",
    "id": "9pL_Rk-wL5Vb"
   },
   "source": [
    "**Exercise 5: Create two dictionaries.** \n",
    "\n",
    "The first dictionary 'name' will contain first name(key) of a person and its hash value(value). \n",
    "The Second will contain hash value(key) and mobile no(value). \n",
    "\n",
    "\n",
    "i) Add 5 entries.\n",
    "\n",
    "ii) Delete two entries by taking the input from user as the first name.\n",
    "\n",
    "ii) Add two entries by taking the input as the first name and mobile no. \n",
    "\n",
    "Hint: You can use remainder ( %) to obtain hash value. "
   ]
  },
  {
   "cell_type": "code",
   "execution_count": 4,
   "metadata": {
    "colab": {},
    "colab_type": "code",
    "id": "4fvI9c19tIv4"
   },
   "outputs": [
    {
     "name": "stdout",
     "output_type": "stream",
     "text": [
      "First  Name : Poornima\n",
      "Mobile No : 99999999999\n",
      "First  Name : Samir\n",
      "Mobile No : 34832748327483\n",
      "First  Name : Nishant\n",
      "Mobile No : 38748324893274\n",
      "First  Name : IIITDMJ\n",
      "Mobile No : 3824832748324\n",
      "First  Name : Jabalpur\n",
      "Mobile No : 83748327483274\n",
      "{'Poornima': -6884245282906144843, 'Samir': 7898564290890125232, 'Nishant': -1816605199999065794, 'IIITDMJ': 3360317370173672039, 'Jabalpur': -1896462043672267064}\n",
      "{-6884245282906144843: '99999999999', 7898564290890125232: '34832748327483', -1816605199999065794: '38748324893274', 3360317370173672039: '3824832748324', -1896462043672267064: '83748327483274'}\n"
     ]
    }
   ],
   "source": [
    "#Write your code here\n",
    "name= {}\n",
    "mobile={}\n",
    "for i in range(0,5):\n",
    "  first_name = input(\"First  Name : \")\n",
    "  mobile_no = input(\"Mobile No : \")\n",
    "  tmp= {(first_name, hash(first_name))}\n",
    "  tmp2 = {(hash(first_name), mobile_no)}\n",
    "  name.update(tmp)\n",
    "  mobile.update(tmp2)\n",
    "print(name)\n",
    "\n",
    "print(mobile)\n",
    "\n"
   ]
  },
  {
   "cell_type": "code",
   "execution_count": 5,
   "metadata": {},
   "outputs": [
    {
     "name": "stdout",
     "output_type": "stream",
     "text": [
      "Name to delete:IIITDMJ\n",
      "Name to delete:Jabalpur\n",
      "{'Poornima': -6884245282906144843, 'Samir': 7898564290890125232, 'Nishant': -1816605199999065794}\n",
      "{-6884245282906144843: '99999999999', 7898564290890125232: '34832748327483', -1816605199999065794: '38748324893274'}\n"
     ]
    }
   ],
   "source": [
    "for j in range(0,2):\n",
    "  del_name= input(\"Name to delete:\")\n",
    "  name.pop(str(del_name))\n",
    "  mobile.pop(hash(del_name))\n",
    "print(name)\n",
    "print(mobile)"
   ]
  },
  {
   "cell_type": "code",
   "execution_count": 6,
   "metadata": {},
   "outputs": [
    {
     "name": "stdout",
     "output_type": "stream",
     "text": [
      "First  Name : E&ICT\n",
      "Mobile No : 2938274\n",
      "First  Name : Jaipur\n",
      "Mobile No : 473276434\n",
      "{'Poornima': -6884245282906144843, 'Samir': 7898564290890125232, 'Nishant': -1816605199999065794, 'E&ICT': -8051526715105851348, 'Jaipur': -2302335765711889365}\n",
      "{-6884245282906144843: '99999999999', 7898564290890125232: '34832748327483', -1816605199999065794: '38748324893274', -8051526715105851348: '2938274', -2302335765711889365: '473276434'}\n"
     ]
    }
   ],
   "source": [
    "for i in range(0,2):\n",
    "  first_name = input(\"First  Name : \")\n",
    "  mobile_no = input(\"Mobile No : \")\n",
    "  tmp= {(first_name, hash(first_name))}\n",
    "  tmp2 = {(hash(first_name), mobile_no)}\n",
    "  name.update(tmp)\n",
    "  mobile.update(tmp2)\n",
    "print(name)\n",
    "\n",
    "print(mobile)"
   ]
  },
  {
   "cell_type": "markdown",
   "metadata": {
    "colab_type": "text",
    "id": "SsuXy_YmtDMQ"
   },
   "source": [
    "E&ICT PDPM IIITDM Jabalpur"
   ]
  }
 ],
 "metadata": {
  "colab": {
   "collapsed_sections": [],
   "name": "Assignment 1(Introduction_to_python_FDP_29/06/2020/2.ipynb",
   "provenance": []
  },
  "kernelspec": {
   "display_name": "Python 3",
   "language": "python",
   "name": "python3"
  },
  "language_info": {
   "codemirror_mode": {
    "name": "ipython",
    "version": 3
   },
   "file_extension": ".py",
   "mimetype": "text/x-python",
   "name": "python",
   "nbconvert_exporter": "python",
   "pygments_lexer": "ipython3",
   "version": "3.7.4"
  }
 },
 "nbformat": 4,
 "nbformat_minor": 1
}
