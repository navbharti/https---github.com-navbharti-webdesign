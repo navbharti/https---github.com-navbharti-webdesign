{
 "cells": [
  {
   "cell_type": "markdown",
   "metadata": {
    "colab_type": "text",
    "id": "ePcSP4ICsH1S"
   },
   "source": [
    "# Joint Summer Faculty Development Program 2020\n",
    "\n",
    "##Machine Learning for Computer Vision\n",
    "##June 29 to July 8, 2020"
   ]
  },
  {
   "cell_type": "markdown",
   "metadata": {
    "colab_type": "text",
    "id": "19i_ZLyPsixi"
   },
   "source": [
    "**Principal Coordinator - IIITDM Jabalpur : Co-Principal Coordinator - MNIT Jaipur**\n",
    "\n",
    "**Particiapting Academies -** IIT Guwahati, MNIT Jaipur, NIT Patna, IIITDM Jabalpur "
   ]
  },
  {
   "cell_type": "markdown",
   "metadata": {
    "colab_type": "text",
    "id": "vfAwwiDVsmKP"
   },
   "source": [
    "# Assignment 2: Introduction to Python  \n",
    "\n",
    "---\n",
    "\n"
   ]
  },
  {
   "cell_type": "markdown",
   "metadata": {
    "colab_type": "text",
    "id": "A9RSljWjsvCZ"
   },
   "source": [
    "**Exercise 1:** Write a NumPy program to create an element-wise comparison (greater, greater_equal, less and less_equal) of two given arrays"
   ]
  },
  {
   "cell_type": "code",
   "execution_count": 1,
   "metadata": {
    "colab": {},
    "colab_type": "code",
    "id": "SSVRECuesA-K"
   },
   "outputs": [
    {
     "name": "stdout",
     "output_type": "stream",
     "text": [
      "Original numbers:\n",
      "[3 5]\n",
      "[2 5]\n",
      "Comparison - greater\n",
      "[ True False]\n",
      "Comparison - greater_equal\n",
      "[ True  True]\n",
      "Comparison - less\n",
      "[False False]\n",
      "Comparison - less_equal\n",
      "[False  True]\n"
     ]
    }
   ],
   "source": [
    "#Write your code here\n",
    "import numpy as np\n",
    "x = np.array([3, 5])\n",
    "y = np.array([2, 5])\n",
    "print(\"Original numbers:\")\n",
    "print(x)\n",
    "print(y)\n",
    "print(\"Comparison - greater\")\n",
    "print(np.greater(x, y))\n",
    "print(\"Comparison - greater_equal\")\n",
    "print(np.greater_equal(x, y))\n",
    "print(\"Comparison - less\")\n",
    "print(np.less(x, y))\n",
    "print(\"Comparison - less_equal\")\n",
    "print(np.less_equal(x, y))"
   ]
  },
  {
   "cell_type": "markdown",
   "metadata": {
    "colab_type": "text",
    "id": "WYmoelWksw_P"
   },
   "source": [
    "**Exercise 2:** Write a NumPy program to create an array with the values 100, 71, 113, 1050 and determine the size of the memory occupied by the array.\n"
   ]
  },
  {
   "cell_type": "code",
   "execution_count": 2,
   "metadata": {
    "colab": {},
    "colab_type": "code",
    "id": "Nr0C4DAjs03V"
   },
   "outputs": [
    {
     "name": "stdout",
     "output_type": "stream",
     "text": [
      "Original array:\n",
      "[ 100   71  113 1050]\n",
      "Size of the memory occupied by the said array:\n",
      "16 bytes\n"
     ]
    }
   ],
   "source": [
    "#Write your code here\n",
    "import numpy as np\n",
    "X = np.array([100, 71, 113, 1050])\n",
    "print(\"Original array:\")\n",
    "print(X)\n",
    "print(\"Size of the memory occupied by the said array:\")\n",
    "print(\"%d bytes\" % (X.size * X.itemsize))"
   ]
  },
  {
   "cell_type": "markdown",
   "metadata": {
    "colab_type": "text",
    "id": "bsWfhoyqs1eU"
   },
   "source": [
    "**Exercise 3:** Write a NumPy program to get the powers ( x ^ 3 ) of an array values element-wise\n",
    "\n",
    "\n",
    "Expected Output:\n",
    "Original array\n",
    "[1 2 3 4 5 ]\n",
    "Output array: \n",
    "[ 1 8 27 64 125 ]"
   ]
  },
  {
   "cell_type": "code",
   "execution_count": 3,
   "metadata": {
    "colab": {},
    "colab_type": "code",
    "id": "y9-NON1cs30x"
   },
   "outputs": [
    {
     "name": "stdout",
     "output_type": "stream",
     "text": [
      "Original array\n",
      "[0 1 2 3 4 5 6]\n",
      "First array elements raised to powers from second array, element-wise:\n",
      "[  0   1   8  27  64 125 216]\n"
     ]
    }
   ],
   "source": [
    "#Write your code here\n",
    "import numpy as np\n",
    "x = np.arange(7)\n",
    "print(\"Original array\")\n",
    "print(x)\n",
    "print(\"First array elements raised to powers from second array, element-wise:\")\n",
    "print(np.power(x, 3))"
   ]
  },
  {
   "cell_type": "markdown",
   "metadata": {
    "colab_type": "text",
    "id": "Q16bIzkks4rX"
   },
   "source": [
    "**Exercise 4:** Write a NumPy program to get the floor, ceiling and truncated values of the elements of a numpy array.\n",
    "Sample Output:\n",
    "Original array:\n",
    "[-1.3, -1.15, -0.1, 0.12, 1.7, 0.9, 1.1]"
   ]
  },
  {
   "cell_type": "code",
   "execution_count": 4,
   "metadata": {
    "colab": {},
    "colab_type": "code",
    "id": "LTJsF-Cgs63h"
   },
   "outputs": [
    {
     "name": "stdout",
     "output_type": "stream",
     "text": [
      "Original array:\n",
      "[-1.3  -1.15 -0.1   0.12  1.7   0.9   1.1 ]\n",
      "Floor values of the above array elements:\n",
      "[-2. -2. -1.  0.  1.  0.  1.]\n",
      "Ceil values of the above array elements:\n",
      "[-1. -1. -0.  1.  2.  1.  2.]\n",
      "Truncated values of the above array elements:\n",
      "[-1. -1. -0.  0.  1.  0.  1.]\n"
     ]
    }
   ],
   "source": [
    "#Write your code here\n",
    "import numpy as np\n",
    "x = np.array([-1.3, -1.15, -0.1, 0.12, 1.7, 0.9, 1.1])\n",
    "print(\"Original array:\")\n",
    "print(x)\n",
    "print(\"Floor values of the above array elements:\")\n",
    "print(np.floor(x))\n",
    "print(\"Ceil values of the above array elements:\")\n",
    "print(np.ceil(x))\n",
    "print(\"Truncated values of the above array elements:\")\n",
    "print(np.trunc(x))"
   ]
  },
  {
   "cell_type": "markdown",
   "metadata": {
    "colab_type": "text",
    "id": "0i7JfIi_s9U8"
   },
   "source": [
    "**Exercise 5:** Write a program in python to display prime numbers from x to y (here x and y are user given values)."
   ]
  },
  {
   "cell_type": "code",
   "execution_count": 5,
   "metadata": {
    "colab": {},
    "colab_type": "code",
    "id": "5zuUshWzs9uW"
   },
   "outputs": [
    {
     "name": "stdout",
     "output_type": "stream",
     "text": [
      "Enter your lower value: 5\n",
      "Enter your upper value: 30\n",
      "Prime numbers between 5 and 30 are:\n",
      "5\n",
      "7\n",
      "11\n",
      "13\n",
      "17\n",
      "19\n",
      "23\n",
      "29\n"
     ]
    }
   ],
   "source": [
    "#Write your code here\n",
    "lower = int(input(\"Enter your lower value: \"))\n",
    "upper = int(input(\"Enter your upper value: \"))\n",
    "\n",
    "\n",
    "print(\"Prime numbers between\", lower, \"and\", upper, \"are:\")\n",
    "\n",
    "for num in range(lower, upper + 1):\n",
    "   # all prime numbers are greater than 1\n",
    "   if num > 1:\n",
    "       for i in range(2, num):\n",
    "           if (num % i) == 0:\n",
    "               break\n",
    "       else:\n",
    "           print(num)"
   ]
  },
  {
   "cell_type": "markdown",
   "metadata": {
    "colab_type": "text",
    "id": "dz5xHDnws-Qh"
   },
   "source": [
    "E&ICT, IIITDM Jabalpur"
   ]
  }
 ],
 "metadata": {
  "colab": {
   "collapsed_sections": [],
   "name": "Assignment 2(Introduction_to_python_FDP_29/06/2020/3.ipynb",
   "provenance": []
  },
  "kernelspec": {
   "display_name": "Python 3",
   "language": "python",
   "name": "python3"
  },
  "language_info": {
   "codemirror_mode": {
    "name": "ipython",
    "version": 3
   },
   "file_extension": ".py",
   "mimetype": "text/x-python",
   "name": "python",
   "nbconvert_exporter": "python",
   "pygments_lexer": "ipython3",
   "version": "3.7.4"
  }
 },
 "nbformat": 4,
 "nbformat_minor": 1
}
